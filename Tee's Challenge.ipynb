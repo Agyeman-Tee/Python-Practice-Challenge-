{
 "cells": [
  {
   "cell_type": "markdown",
   "id": "91f58dcf-e04d-421b-b112-ee03d3d51ccf",
   "metadata": {},
   "source": [
    "DAY 2 - Age Comparator: Ask for names and ages of two users, and determine\n",
    " who is older and by how many years."
   ]
  },
  {
   "cell_type": "code",
   "execution_count": 1,
   "id": "cf760d22-6934-4078-9c01-5f09b832093a",
   "metadata": {},
   "outputs": [
    {
     "name": "stdin",
     "output_type": "stream",
     "text": [
      "What is your age? 4\n",
      "What is your age? 3\n"
     ]
    },
    {
     "name": "stdout",
     "output_type": "stream",
     "text": [
      "a1 is older than a2 by 1\n"
     ]
    }
   ],
   "source": [
    "a1 = int(input(\"What is your age?\"))\n",
    "a2 = int(input(\"What is your age?\"))\n",
    "if a1>a2:\n",
    "    firstUser = int(a1) - int(a2)\n",
    "    print(f\"a1 is older than a2 by\", firstUser)\n",
    "#elif; \n",
    "#    a1==a2\n",
    "#    print(f\"They have the same age.\")\n",
    "else:\n",
    "    SecondUser = int(a2) - int(a1)\n",
    "    print(f\"a2 is older than a1 by\", SecondUser)\n"
   ]
  },
  {
   "cell_type": "markdown",
   "id": "558f0f64-abfb-4310-9197-9c8f09787f15",
   "metadata": {},
   "source": [
    "DAY 3 - Login System: Hardcode a username and password. User gets 3 tries\n",
    " before system locks."
   ]
  },
  {
   "cell_type": "code",
   "execution_count": 25,
   "id": "d7527683-15a3-40f1-a482-247dd7fd7344",
   "metadata": {},
   "outputs": [
    {
     "name": "stdin",
     "output_type": "stream",
     "text": [
      "Enter your Username: 8h8h\n",
      "Enter your Password: 9k0k\n"
     ]
    },
    {
     "name": "stdout",
     "output_type": "stream",
     "text": [
      "Incorrect Username and Password!\n"
     ]
    },
    {
     "name": "stdin",
     "output_type": "stream",
     "text": [
      "Enter your Username: 98ujp\n",
      "Enter your Password: 0jmjo\n"
     ]
    },
    {
     "name": "stdout",
     "output_type": "stream",
     "text": [
      "Incorrect Username and Password!\n"
     ]
    },
    {
     "name": "stdin",
     "output_type": "stream",
     "text": [
      "Enter your Username: 0ijij\n",
      "Enter your Password: 90ji\n"
     ]
    },
    {
     "name": "stdout",
     "output_type": "stream",
     "text": [
      "Incorrect Username and Password!\n"
     ]
    }
   ],
   "source": [
    "Username = \"AMA\"\n",
    "Password = 123456\n",
    "\n",
    "count = 0\n",
    "while count<3:\n",
    "    one = input(\"Enter your Username:\")\n",
    "    two = input(\"Enter your Password:\")\n",
    "    if one==Username and two == Password:\n",
    "        break\n",
    "    else:\n",
    "        count+=1\n",
    "        print(\"Incorrect Username and Password!\")\n",
    "        \n",
    "   \n"
   ]
  },
  {
   "cell_type": "markdown",
   "id": "ef1cd5e4-b792-473d-9178-8a07fee729d3",
   "metadata": {},
   "source": [
    "DAY 4 - FizzBuzz + Boom: Print 1–100 with ”Fizz” (3), ”Buzz” (5), ”FizzBuzz”\n",
    " (both), and replace any number containing 7 with ”Boom”."
   ]
  },
  {
   "cell_type": "code",
   "execution_count": 45,
   "id": "2606b983-3aff-4e8b-81c6-aa4e079fb106",
   "metadata": {},
   "outputs": [
    {
     "name": "stdout",
     "output_type": "stream",
     "text": [
      "1\n",
      "2\n",
      "Fizz\n",
      "4\n",
      "Buzz\n",
      "Fizz\n",
      "Boom\n",
      "8\n",
      "Fizz\n",
      "Buzz\n",
      "11\n",
      "Fizz\n",
      "13\n",
      "14\n",
      "FizzBuzz\n",
      "16\n",
      "Boom\n",
      "Fizz\n",
      "19\n",
      "Buzz\n",
      "Fizz\n",
      "22\n",
      "23\n",
      "Fizz\n",
      "Buzz\n",
      "26\n",
      "Fizz\n",
      "28\n",
      "29\n",
      "FizzBuzz\n",
      "31\n",
      "32\n",
      "Fizz\n",
      "34\n",
      "Buzz\n",
      "Fizz\n",
      "Boom\n",
      "38\n",
      "Fizz\n",
      "Buzz\n",
      "41\n",
      "Fizz\n",
      "43\n",
      "44\n",
      "FizzBuzz\n",
      "46\n",
      "Boom\n",
      "Fizz\n",
      "49\n",
      "Buzz\n",
      "Fizz\n",
      "52\n",
      "53\n",
      "Fizz\n",
      "Buzz\n",
      "56\n",
      "Fizz\n",
      "58\n",
      "59\n",
      "FizzBuzz\n",
      "61\n",
      "62\n",
      "Fizz\n",
      "64\n",
      "Buzz\n",
      "Fizz\n",
      "Boom\n",
      "68\n",
      "Fizz\n",
      "Buzz\n",
      "Boom\n",
      "Fizz\n",
      "Boom\n",
      "Boom\n",
      "FizzBuzz\n",
      "Boom\n",
      "Boom\n",
      "Fizz\n",
      "Boom\n",
      "Buzz\n",
      "Fizz\n",
      "82\n",
      "83\n",
      "Fizz\n",
      "Buzz\n",
      "86\n",
      "Fizz\n",
      "88\n",
      "89\n",
      "FizzBuzz\n",
      "91\n",
      "92\n",
      "Fizz\n",
      "94\n",
      "Buzz\n",
      "Fizz\n",
      "Boom\n",
      "98\n",
      "Fizz\n",
      "Buzz\n"
     ]
    }
   ],
   "source": [
    "Numbers = range(1,101)\n",
    "\n",
    "for i in Numbers:\n",
    "    if i%3 == 0 and i%5 == 0:\n",
    "        print(\"FizzBuzz\")\n",
    "    elif i%3 == 0:\n",
    "        print(\"Fizz\")\n",
    "    elif i%5 == 0:\n",
    "        print(\"Buzz\")\n",
    "    elif str(7) in str(i):\n",
    "        print(\"Boom\")\n",
    "\n",
    "    #elif (i-7)%10==0 or (i>69 and i<80):\n",
    "     #   print(\"Boom\")\n",
    "    else:\n",
    "        print(i)\n",
    "    \n",
    " \n",
    "    "
   ]
  },
  {
   "cell_type": "markdown",
   "id": "e5421b06-2047-4adb-983d-c547a1cc2606",
   "metadata": {},
   "source": []
  },
  {
   "cell_type": "markdown",
   "id": "3d66b179-20bd-46e5-9202-6d6aec00a1a0",
   "metadata": {},
   "source": [
    "DAY 5 - Number Guessing Game: Random number 1–50. User guesses with hints\n",
    " (too high/low). Count attempts."
   ]
  },
  {
   "cell_type": "code",
   "execution_count": 4,
   "id": "221095ea-66ac-4b44-8ee5-829f07afb43f",
   "metadata": {},
   "outputs": [
    {
     "name": "stdin",
     "output_type": "stream",
     "text": [
      "Give me your guessed number between 1 and 100: 55\n"
     ]
    },
    {
     "name": "stdout",
     "output_type": "stream",
     "text": [
      "Guess too High\n"
     ]
    },
    {
     "name": "stdin",
     "output_type": "stream",
     "text": [
      "Give me your guessed number between 1 and 100: 7\n"
     ]
    },
    {
     "name": "stdout",
     "output_type": "stream",
     "text": [
      "Guess too High\n"
     ]
    },
    {
     "name": "stdin",
     "output_type": "stream",
     "text": [
      "Give me your guessed number between 1 and 100: 4\n"
     ]
    },
    {
     "name": "stdout",
     "output_type": "stream",
     "text": [
      "Fabulous! this is awesome, you guessed right.\n"
     ]
    }
   ],
   "source": [
    "import random\n",
    "rand = random.randint(1,51)\n",
    "\n",
    "count = 0\n",
    "while count < 5:\n",
    "    User = int(input(\"Give me your guessed number between 1 and 100:\"))\n",
    "    if User==rand:\n",
    "        print(\"Fabulous! this is awesome, you guessed right.\")\n",
    "        break\n",
    "    elif User < rand:\n",
    "        print(\"Guess too low\")\n",
    "    elif User > rand:\n",
    "        print(\"Guess too High\")\n",
    "    count = count + 1\n",
    "    \n",
    "if count == 5:  \n",
    "    print(\"Buddy, try some other time, the right number is:\", rand)\n",
    "        \n",
    "        \n",
    "        "
   ]
  },
  {
   "cell_type": "code",
   "execution_count": null,
   "id": "f6d94faa-7d08-475f-8288-3c9a696cb7ff",
   "metadata": {},
   "outputs": [],
   "source": []
  },
  {
   "cell_type": "markdown",
   "id": "fe248c81-a920-4876-bf46-04c45b9352c9",
   "metadata": {},
   "source": [
    "DAY 6 - Digit Sum Checker: Sum the digits of an integer and check if divisible\n",
    " by 3 or 9."
   ]
  },
  {
   "cell_type": "code",
   "execution_count": 51,
   "id": "74f9b4db-763e-4440-95a4-4ebf152de743",
   "metadata": {},
   "outputs": [
    {
     "name": "stdin",
     "output_type": "stream",
     "text": [
      "Enter an integer: 124\n"
     ]
    },
    {
     "name": "stdout",
     "output_type": "stream",
     "text": [
      "No! this integer is not divisible by ither 3 or 9\n"
     ]
    }
   ],
   "source": [
    "User= input(\"Enter an integer:\")\n",
    "Number = str(User)  # Convert the number to a string to easily iterate through its digits\n",
    "digit_sum = 0  # Initialize a variable to store the sum\n",
    "for i in Number:  # Iterate through each character in the string\n",
    "    digit_sum = digit_sum +int(i) # Convert each character (digit) back to an integer and add to the sum\n",
    "if digit_sum % 3 == 0:\n",
    "    print(\"Yes! this integer is divisible by 3\")\n",
    "elif digit_sum % 9 == 0:\n",
    "    print(\"Yes! this integer is divisible by 9\")\n",
    "else:\n",
    "    print(\"No! this integer is not divisible by ither 3 or 9\")\n"
   ]
  },
  {
   "cell_type": "markdown",
   "id": "be350029-994a-46c7-a800-ac9b860ce210",
   "metadata": {},
   "source": []
  },
  {
   "cell_type": "markdown",
   "id": "294bf528-b8c9-4e8b-97ef-74e14c48ebc7",
   "metadata": {},
   "source": [
    "DAY 7 - Pattern Printer:Ask user for n. Print a right-angle triangle and a diamond if n is odd and ≥ 5."
   ]
  },
  {
   "cell_type": "code",
   "execution_count": 18,
   "id": "aa124865-cb18-48d9-a0c8-f77fbf7eff0d",
   "metadata": {},
   "outputs": [
    {
     "name": "stdin",
     "output_type": "stream",
     "text": [
      "Enter an interger: 12\n"
     ]
    },
    {
     "name": "stdout",
     "output_type": "stream",
     "text": [
      "            \n",
      "  * * * * * * * * * * *\n",
      "   * * * * * * * * * *\n",
      "    * * * * * * * * *\n",
      "     * * * * * * * *\n",
      "      * * * * * * *\n",
      "       * * * * * *\n",
      "        * * * * *\n",
      "         * * * *\n",
      "          * * *\n",
      "           * *\n",
      "            *\n",
      "           * *\n",
      "  * * * * * * * * * * *\n",
      "   * * * * * * * * * *\n",
      "    * * * * * * * * *\n",
      "     * * * * * * * *\n",
      "      * * * * * * *\n",
      "       * * * * * *\n",
      "        * * * * *\n",
      "         * * * *\n",
      "          * * *\n",
      "           * *\n",
      "            *\n",
      "         * * * *\n",
      "  * * * * * * * * * * *\n",
      "   * * * * * * * * * *\n",
      "    * * * * * * * * *\n",
      "     * * * * * * * *\n",
      "      * * * * * * *\n",
      "       * * * * * *\n",
      "        * * * * *\n",
      "         * * * *\n",
      "          * * *\n",
      "           * *\n",
      "            *\n",
      "       * * * * * *\n",
      "  * * * * * * * * * * *\n",
      "   * * * * * * * * * *\n",
      "    * * * * * * * * *\n",
      "     * * * * * * * *\n",
      "      * * * * * * *\n",
      "       * * * * * *\n",
      "        * * * * *\n",
      "         * * * *\n",
      "          * * *\n",
      "           * *\n",
      "            *\n",
      "     * * * * * * * *\n",
      "  * * * * * * * * * * *\n",
      "   * * * * * * * * * *\n",
      "    * * * * * * * * *\n",
      "     * * * * * * * *\n",
      "      * * * * * * *\n",
      "       * * * * * *\n",
      "        * * * * *\n",
      "         * * * *\n",
      "          * * *\n",
      "           * *\n",
      "            *\n",
      "   * * * * * * * * * *\n",
      "  * * * * * * * * * * *\n",
      "   * * * * * * * * * *\n",
      "    * * * * * * * * *\n",
      "     * * * * * * * *\n",
      "      * * * * * * *\n",
      "       * * * * * *\n",
      "        * * * * *\n",
      "         * * * *\n",
      "          * * *\n",
      "           * *\n",
      "            *\n",
      " * * * * * * * * * * * *\n"
     ]
    }
   ],
   "source": [
    "n = int(input(\"Enter an interger:\"))\n",
    "\n",
    "for i in range(n+1):\n",
    "    if n >= 5 and n % 2==1: \n",
    "        print(\"A\"*i) \n",
    "    elif i % 2 == 0: \n",
    "        print ((n-i)*(\" \")+(i*\" *\"))\n",
    "    else:\n",
    "        for i in range(n-1,0,-1):\n",
    "            print((n-i)*(\" \")+(i*\" *\"))\n"
   ]
  },
  {
   "cell_type": "code",
   "execution_count": null,
   "id": "b0f9558a-d29e-48e8-aec5-b00153a6d3a3",
   "metadata": {},
   "outputs": [],
   "source": []
  },
  {
   "cell_type": "markdown",
   "id": "cc6fdb38-098e-4dfc-8af1-b1a1f7c19810",
   "metadata": {},
   "source": [
    "DAY 8 -  Vowel Counter:Count the number of vowels in a given string."
   ]
  },
  {
   "cell_type": "code",
   "execution_count": 31,
   "id": "d6f98f17-2ce3-4be7-9701-dfdcf887fe48",
   "metadata": {},
   "outputs": [
    {
     "name": "stdin",
     "output_type": "stream",
     "text": [
      "Enter a word: wiondbtri\n"
     ]
    },
    {
     "name": "stdout",
     "output_type": "stream",
     "text": [
      "2\n"
     ]
    }
   ],
   "source": [
    "Vows = ['a', 'o', 'i', 'u', 'e']\n",
    "\n",
    "User = input(\"Enter a word:\")\n",
    "Now = [j for j in User]\n",
    "count = []\n",
    "\n",
    "for i in Vows:\n",
    "    if i in Now:\n",
    "        count.append(i)\n",
    "print(len(count))\n"
   ]
  },
  {
   "cell_type": "code",
   "execution_count": null,
   "id": "7f55f30d-59e9-45aa-9990-b7b678ff5aad",
   "metadata": {},
   "outputs": [],
   "source": []
  },
  {
   "cell_type": "markdown",
   "id": "5f1f4f75-16d3-4bcf-9814-bbaa2c465c64",
   "metadata": {},
   "source": [
    "DAY - 9 Reverse String: Take input and print it reversed. Try both slicing and loops"
   ]
  },
  {
   "cell_type": "code",
   "execution_count": 16,
   "id": "9b15256a-c7dd-4f2e-9200-a783b894dbce",
   "metadata": {},
   "outputs": [
    {
     "name": "stdin",
     "output_type": "stream",
     "text": [
      "Enter either a word or more than 3 digits number: 123456\n"
     ]
    },
    {
     "name": "stdout",
     "output_type": "stream",
     "text": [
      "654321\n"
     ]
    }
   ],
   "source": [
    "User = input(\"Enter either a word or more than 3 digits number:\")\n",
    "\n",
    "#bet = []\n",
    "#while bet < len(User):\n",
    "#for i in User:\n",
    "    #revs = User[::-1]\n",
    "    #bet.append(i)\n",
    "print(User[::-1])"
   ]
  },
  {
   "cell_type": "code",
   "execution_count": null,
   "id": "83f9485c-824a-434b-82b3-23674c7978bc",
   "metadata": {},
   "outputs": [],
   "source": []
  },
  {
   "cell_type": "markdown",
   "id": "20eaa17c-fbeb-4e2b-b380-52f6af5f384d",
   "metadata": {},
   "source": [
    "DAY 10 - Palindrome Checker:Check if a word or phrase is a palindrome (ignore spaces and casing)."
   ]
  },
  {
   "cell_type": "code",
   "execution_count": 31,
   "id": "b2f636d7-86ba-415e-b6c0-984fd1aba0bd",
   "metadata": {},
   "outputs": [
    {
     "name": "stdin",
     "output_type": "stream",
     "text": [
      "Enter your phrase: Do, geese see God\n"
     ]
    },
    {
     "name": "stdout",
     "output_type": "stream",
     "text": [
      "Hey! your phrase is a Palindrome!\n"
     ]
    }
   ],
   "source": [
    "User = input(\"Enter your phrase:\")\n",
    "dos = User.replace(' ', '').replace(',', '')\n",
    "if backward ==  dos[::-1].lower():\n",
    "    print(\"Hey! your phrase is a Palindrome!\")\n",
    "else:\n",
    "    print(\"Hi, your phrase is not a Palindrome!\")"
   ]
  },
  {
   "cell_type": "code",
   "execution_count": null,
   "id": "c584924c-f217-40af-8dcc-a514c96e9f91",
   "metadata": {},
   "outputs": [],
   "source": []
  },
  {
   "cell_type": "markdown",
   "id": "186f50e5-ddb3-4e1e-866b-c6402be74bdc",
   "metadata": {},
   "source": [
    "DAY 11 - Multiplication Table: Print the 1–10 multiplication table for a given number."
   ]
  },
  {
   "cell_type": "code",
   "execution_count": 6,
   "id": "5d4e6c65-5950-435e-ba41-3b73d71377b5",
   "metadata": {},
   "outputs": [
    {
     "name": "stdin",
     "output_type": "stream",
     "text": [
      "Enter the number for which you want the multiplication table: 4\n"
     ]
    },
    {
     "name": "stdout",
     "output_type": "stream",
     "text": [
      "4 x 1 = 4\n",
      "4 x 2 = 8\n",
      "4 x 3 = 12\n",
      "4 x 4 = 16\n",
      "4 x 5 = 20\n",
      "4 x 6 = 24\n",
      "4 x 7 = 28\n",
      "4 x 8 = 32\n",
      "4 x 9 = 36\n",
      "4 x 10 = 40\n",
      "4 x 11 = 44\n",
      "4 x 12 = 48\n",
      "This is the multiplication table for 4.\n"
     ]
    }
   ],
   "source": [
    "Number = int(input(\"Enter the number for which you want the multiplication table:\"))\n",
    "result = []\n",
    "for i in range(1,13):\n",
    "    result = Number*i\n",
    "    print(f\"{Number} x {i} = {result}\")\n",
    "print(f\"This is the multiplication table for {Number}.\")"
   ]
  },
  {
   "cell_type": "code",
   "execution_count": null,
   "id": "5989eddf-0dbd-465c-b100-6c9b307787c7",
   "metadata": {},
   "outputs": [],
   "source": []
  },
  {
   "cell_type": "markdown",
   "id": "41e2764b-40ac-40ed-84a3-c43591716783",
   "metadata": {},
   "source": [
    "DAY 12 - Word Counter:Count the number of words in a full sentence"
   ]
  },
  {
   "cell_type": "code",
   "execution_count": 8,
   "id": "66152d71-dee2-4cc6-bcfb-fe7ba3aa7122",
   "metadata": {},
   "outputs": [
    {
     "name": "stdin",
     "output_type": "stream",
     "text": [
      "Type your sentence here nigga!: i am a lady\n"
     ]
    },
    {
     "name": "stdout",
     "output_type": "stream",
     "text": [
      "Your sentence contains 4 words.\n"
     ]
    }
   ],
   "source": [
    "User = str(input(\"Type your sentence here nigga!:\"))\n",
    "words = User.split()\n",
    "words_count = len(words)\n",
    "print(f\"Your sentence contains {words_count} words.\")"
   ]
  },
  {
   "cell_type": "code",
   "execution_count": null,
   "id": "eca26687-880d-4d30-a0fe-8f8cb9c46db4",
   "metadata": {},
   "outputs": [],
   "source": []
  },
  {
   "cell_type": "markdown",
   "id": "00fd8957-87d3-4411-9518-9c62dcda4f4a",
   "metadata": {},
   "source": [
    "DAY 13 - Dash Replacer:Replace every space in a string with a dash (‘-‘)"
   ]
  },
  {
   "cell_type": "code",
   "execution_count": 10,
   "id": "bb671e5d-7b62-4e2b-989d-2ce8738510a7",
   "metadata": {},
   "outputs": [
    {
     "name": "stdin",
     "output_type": "stream",
     "text": [
      "Type your sentence here nigga!: i am a lady\n"
     ]
    },
    {
     "name": "stdout",
     "output_type": "stream",
     "text": [
      "Your new sentence is i-am-a-lady, where spaces have been replaced with -.\n"
     ]
    }
   ],
   "source": [
    "User = str(input(\"Type your sentence here nigga!:\"))\n",
    "#sentence = User.split()\n",
    "dash = User.replace(\" \",\"-\")\n",
    "print(f\"Your new sentence is {dash}, where spaces have been replaced with -.\")"
   ]
  },
  {
   "cell_type": "code",
   "execution_count": null,
   "id": "6d255c78-3dae-4273-b0a3-65714f0034d1",
   "metadata": {},
   "outputs": [],
   "source": []
  },
  {
   "cell_type": "markdown",
   "id": "e5c0db1d-281a-4013-ace6-fd7409fa4d6f",
   "metadata": {},
   "source": [
    "DAY 14 - Capitalizer:Capitalize the first letter of each word in a sentence (like a title)."
   ]
  },
  {
   "cell_type": "code",
   "execution_count": 18,
   "id": "6d7d6ac7-1e7f-4e2b-8ec7-d94226bd0544",
   "metadata": {},
   "outputs": [
    {
     "name": "stdin",
     "output_type": "stream",
     "text": [
      "Type your sentence here nigga!: she is a man\n"
     ]
    },
    {
     "name": "stdout",
     "output_type": "stream",
     "text": [
      "Your corrected sentence is: She Is A Man\n"
     ]
    }
   ],
   "source": [
    "User = str(input(\"Type your sentence here nigga!:\"))\n",
    "Capital = User.title()\n",
    "print(f\"Your corrected sentence is: {Capital}\")"
   ]
  },
  {
   "cell_type": "code",
   "execution_count": null,
   "id": "8ccf176e-f4fc-4605-ab12-411a5d2afce3",
   "metadata": {},
   "outputs": [],
   "source": []
  },
  {
   "cell_type": "markdown",
   "id": "efdb6cda-ea87-49b9-88c2-48dbf5c2c4d1",
   "metadata": {},
   "source": [
    "DAY 15 - List Summer:Create a list of numbers and return their total sum."
   ]
  },
  {
   "cell_type": "code",
   "execution_count": 25,
   "id": "5fc5c6ef-d552-4544-9661-fa9ede7deafe",
   "metadata": {},
   "outputs": [
    {
     "name": "stdin",
     "output_type": "stream",
     "text": [
      "Input a list of numbers: 5,7,9\n"
     ]
    },
    {
     "ename": "AttributeError",
     "evalue": "'list' object has no attribute 'sum'",
     "output_type": "error",
     "traceback": [
      "\u001b[1;31m---------------------------------------------------------------------------\u001b[0m",
      "\u001b[1;31mAttributeError\u001b[0m                            Traceback (most recent call last)",
      "Cell \u001b[1;32mIn[25], line 3\u001b[0m\n\u001b[0;32m      1\u001b[0m User \u001b[38;5;241m=\u001b[39m \u001b[38;5;28mlist\u001b[39m(\u001b[38;5;28minput\u001b[39m(\u001b[38;5;124m\"\u001b[39m\u001b[38;5;124mInput a list of numbers:\u001b[39m\u001b[38;5;124m\"\u001b[39m))\n\u001b[0;32m      2\u001b[0m \u001b[38;5;66;03m#lst = User.list()\u001b[39;00m\n\u001b[1;32m----> 3\u001b[0m tot \u001b[38;5;241m=\u001b[39m User\u001b[38;5;241m.\u001b[39msum() \n\u001b[0;32m      4\u001b[0m \u001b[38;5;28mprint\u001b[39m(\u001b[38;5;124mf\u001b[39m\u001b[38;5;124m\"\u001b[39m\u001b[38;5;124mThis is the total: \u001b[39m\u001b[38;5;132;01m{\u001b[39;00mtot\u001b[38;5;132;01m}\u001b[39;00m\u001b[38;5;124m\"\u001b[39m)\n",
      "\u001b[1;31mAttributeError\u001b[0m: 'list' object has no attribute 'sum'"
     ]
    }
   ],
   "source": [
    "User = list(input(\"Input a list of numbers:\"))\n",
    "#lst = User.list() \n",
    "tot = User.sum() \n",
    "print(f\"This is the total: {tot}\")"
   ]
  },
  {
   "cell_type": "code",
   "execution_count": null,
   "id": "a85ece8c-ce7d-4a46-96ca-1e7b401f95d0",
   "metadata": {},
   "outputs": [],
   "source": []
  }
 ],
 "metadata": {
  "kernelspec": {
   "display_name": "Python 3 (ipykernel)",
   "language": "python",
   "name": "python3"
  },
  "language_info": {
   "codemirror_mode": {
    "name": "ipython",
    "version": 3
   },
   "file_extension": ".py",
   "mimetype": "text/x-python",
   "name": "python",
   "nbconvert_exporter": "python",
   "pygments_lexer": "ipython3",
   "version": "3.12.9"
  }
 },
 "nbformat": 4,
 "nbformat_minor": 5
}
